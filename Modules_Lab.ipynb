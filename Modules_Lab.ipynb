{
 "cells": [
  {
   "cell_type": "markdown",
   "metadata": {},
   "source": [
    "## Building Modules"
   ]
  },
  {
   "cell_type": "code",
   "execution_count": 7,
   "metadata": {},
   "outputs": [
    {
     "output_type": "stream",
     "name": "stdout",
     "text": "The autoreload extension is already loaded. To reload it, use:\n  %reload_ext autoreload\n"
    }
   ],
   "source": [
    "%load_ext autoreload\n",
    "%autoreload 2"
   ]
  },
  {
   "cell_type": "code",
   "execution_count": 8,
   "metadata": {},
   "outputs": [],
   "source": [
    "import pandas as pd\n",
    "import edhec_risk_kit as erk"
   ]
  },
  {
   "cell_type": "code",
   "execution_count": 11,
   "metadata": {},
   "outputs": [
    {
     "output_type": "execute_result",
     "data": {
      "text/plain": "         SmallCap  LargeCap\n1926-07   -0.0145    0.0329\n1926-08    0.0512    0.0370\n1926-09    0.0093    0.0067\n1926-10   -0.0484   -0.0243\n1926-11   -0.0078    0.0270",
      "text/html": "<div>\n<style scoped>\n    .dataframe tbody tr th:only-of-type {\n        vertical-align: middle;\n    }\n\n    .dataframe tbody tr th {\n        vertical-align: top;\n    }\n\n    .dataframe thead th {\n        text-align: right;\n    }\n</style>\n<table border=\"1\" class=\"dataframe\">\n  <thead>\n    <tr style=\"text-align: right;\">\n      <th></th>\n      <th>SmallCap</th>\n      <th>LargeCap</th>\n    </tr>\n  </thead>\n  <tbody>\n    <tr>\n      <td>1926-07</td>\n      <td>-0.0145</td>\n      <td>0.0329</td>\n    </tr>\n    <tr>\n      <td>1926-08</td>\n      <td>0.0512</td>\n      <td>0.0370</td>\n    </tr>\n    <tr>\n      <td>1926-09</td>\n      <td>0.0093</td>\n      <td>0.0067</td>\n    </tr>\n    <tr>\n      <td>1926-10</td>\n      <td>-0.0484</td>\n      <td>-0.0243</td>\n    </tr>\n    <tr>\n      <td>1926-11</td>\n      <td>-0.0078</td>\n      <td>0.0270</td>\n    </tr>\n  </tbody>\n</table>\n</div>"
     },
     "metadata": {},
     "execution_count": 11
    }
   ],
   "source": [
    "returns = erk.get_ffme_returns()\n",
    "returns.head()"
   ]
  },
  {
   "cell_type": "code",
   "execution_count": 15,
   "metadata": {},
   "outputs": [
    {
     "output_type": "execute_result",
     "data": {
      "text/plain": "-0.8330007793945303"
     },
     "metadata": {},
     "execution_count": 15
    }
   ],
   "source": [
    "erk.drawdown(returns['SmallCap'])['Drawdown'].min()"
   ]
  },
  {
   "cell_type": "code",
   "execution_count": null,
   "metadata": {},
   "outputs": [],
   "source": []
  }
 ],
 "metadata": {
  "language_info": {
   "codemirror_mode": {
    "name": "ipython",
    "version": 3
   },
   "file_extension": ".py",
   "mimetype": "text/x-python",
   "name": "python",
   "nbconvert_exporter": "python",
   "pygments_lexer": "ipython3",
   "version": "3.8.1-final"
  },
  "orig_nbformat": 2,
  "kernelspec": {
   "name": "python3",
   "display_name": "Python 3"
  }
 },
 "nbformat": 4,
 "nbformat_minor": 2
}