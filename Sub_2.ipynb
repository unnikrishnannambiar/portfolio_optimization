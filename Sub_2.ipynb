{
 "cells": [
  {
   "cell_type": "markdown",
   "metadata": {},
   "source": [
    "* ### Hedge Fund Indices Analysis of VaR "
   ]
  },
  {
   "cell_type": "code",
   "execution_count": 1,
   "metadata": {},
   "outputs": [],
   "source": [
    "import pandas as pd \n",
    "import numpy as np\n",
    "import edhec_risk_kit as erk \n",
    "\n",
    "hfi = erk.get_hfi_returns()"
   ]
  },
  {
   "cell_type": "code",
   "execution_count": 2,
   "metadata": {},
   "outputs": [
    {
     "output_type": "execute_result",
     "data": {
      "text/plain": "0.03143017693928047"
     },
     "metadata": {},
     "execution_count": 2
    }
   ],
   "source": [
    "dat = hfi['2000':]\n",
    "dat = dat['Distressed Securities']\n",
    "erk.var_gaussian(dat, level = 1)"
   ]
  },
  {
   "cell_type": "code",
   "execution_count": 3,
   "metadata": {},
   "outputs": [
    {
     "output_type": "execute_result",
     "data": {
      "text/plain": "0.04966909110627918"
     },
     "metadata": {},
     "execution_count": 3
    }
   ],
   "source": [
    "erk.var_gaussian(dat, level = 1, modified = True) "
   ]
  },
  {
   "cell_type": "code",
   "execution_count": 4,
   "metadata": {},
   "outputs": [
    {
     "output_type": "execute_result",
     "data": {
      "text/plain": "0.042642"
     },
     "metadata": {},
     "execution_count": 4
    }
   ],
   "source": [
    "erk.var_historic(dat, level = 1) "
   ]
  },
  {
   "cell_type": "markdown",
   "metadata": {},
   "source": [
    "* ### Industry Data Markowitz Analysis "
   ]
  },
  {
   "cell_type": "code",
   "execution_count": 5,
   "metadata": {},
   "outputs": [
    {
     "output_type": "execute_result",
     "data": {
      "text/plain": "array([0.        , 0.47702487, 0.43411203, 0.0888631 ])"
     },
     "metadata": {},
     "execution_count": 5
    }
   ],
   "source": [
    "ind = erk.get_ind_returns()\n",
    "dat = ind['2013':'2017']\n",
    "l = ['Steel', 'Books', 'Oil', 'Mines']\n",
    "rf = 0.1\n",
    "dat = dat[l]\n",
    "er = erk.annualized_rets(dat, 12)\n",
    "cov = dat.cov()\n",
    "msr = erk.msr(rf, er, cov)\n",
    "gmv = erk.gmv(cov)\n",
    "gmv"
   ]
  },
  {
   "cell_type": "code",
   "execution_count": 6,
   "metadata": {},
   "outputs": [
    {
     "output_type": "execute_result",
     "data": {
      "text/plain": "array([1.00000000e+00, 5.15212872e-15, 2.84494650e-16, 0.00000000e+00])"
     },
     "metadata": {},
     "execution_count": 6
    }
   ],
   "source": [
    "msr"
   ]
  },
  {
   "cell_type": "code",
   "execution_count": 7,
   "metadata": {},
   "outputs": [
    {
     "output_type": "execute_result",
     "data": {
      "text/plain": "0.16044097703785773"
     },
     "metadata": {},
     "execution_count": 7
    }
   ],
   "source": [
    "dat = ind['2018']\n",
    "dat = dat[l]\n",
    "#cov = dat.cov() \n",
    "vol_gmv = erk.portfolio_vol(gmv, cov)\n",
    "vol_gmv * np.sqrt(12)"
   ]
  },
  {
   "cell_type": "code",
   "execution_count": 8,
   "metadata": {},
   "outputs": [
    {
     "output_type": "execute_result",
     "data": {
      "text/plain": "0.2295495027295628"
     },
     "metadata": {},
     "execution_count": 8
    }
   ],
   "source": [
    "vol_msr = erk.portfolio_vol(msr, cov)\n",
    "vol_msr * np.sqrt(12)"
   ]
  },
  {
   "cell_type": "code",
   "execution_count": null,
   "metadata": {},
   "outputs": [],
   "source": []
  }
 ],
 "metadata": {
  "language_info": {
   "codemirror_mode": {
    "name": "ipython",
    "version": 3
   },
   "file_extension": ".py",
   "mimetype": "text/x-python",
   "name": "python",
   "nbconvert_exporter": "python",
   "pygments_lexer": "ipython3",
   "version": 3
  },
  "orig_nbformat": 2,
  "kernelspec": {
   "name": "python_defaultSpec_1594798574208",
   "display_name": "Python 3.7.6 64-bit ('base': conda)"
  }
 },
 "nbformat": 4,
 "nbformat_minor": 2
}