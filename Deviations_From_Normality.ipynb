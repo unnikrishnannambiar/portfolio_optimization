{
 "cells": [
  {
   "cell_type": "markdown",
   "metadata": {},
   "source": [
    "### Deviations From Normality"
   ]
  },
  {
   "cell_type": "code",
   "execution_count": 1,
   "metadata": {},
   "outputs": [],
   "source": [
    "%load_ext autoreload\n",
    "%autoreload 2\n",
    "\n",
    "import pandas as pd\n",
    "import numpy as np\n",
    "import edhec_risk_kit as erk"
   ]
  },
  {
   "cell_type": "code",
   "execution_count": 2,
   "metadata": {},
   "outputs": [
    {
     "output_type": "execute_result",
     "data": {
      "text/plain": "         Convertible Arbitrage  CTA Global  Distressed Securities  \\\ndate                                                                \n1997-01                 0.0119      0.0393                 0.0178   \n1997-02                 0.0123      0.0298                 0.0122   \n1997-03                 0.0078     -0.0021                -0.0012   \n1997-04                 0.0086     -0.0170                 0.0030   \n1997-05                 0.0156     -0.0015                 0.0233   \n\n         Emerging Markets  Equity Market Neutral  Event Driven  \\\ndate                                                             \n1997-01            0.0791                 0.0189        0.0213   \n1997-02            0.0525                 0.0101        0.0084   \n1997-03           -0.0120                 0.0016       -0.0023   \n1997-04            0.0119                 0.0119       -0.0005   \n1997-05            0.0315                 0.0189        0.0346   \n\n         Fixed Income Arbitrage  Global Macro  Long/Short Equity  \\\ndate                                                               \n1997-01                  0.0191        0.0573             0.0281   \n1997-02                  0.0122        0.0175            -0.0006   \n1997-03                  0.0109       -0.0119            -0.0084   \n1997-04                  0.0130        0.0172             0.0084   \n1997-05                  0.0118        0.0108             0.0394   \n\n         Merger Arbitrage  Relative Value  Short Selling  Funds Of Funds  \ndate                                                                      \n1997-01            0.0150          0.0180        -0.0166          0.0317  \n1997-02            0.0034          0.0118         0.0426          0.0106  \n1997-03            0.0060          0.0010         0.0778         -0.0077  \n1997-04           -0.0001          0.0122        -0.0129          0.0009  \n1997-05            0.0197          0.0173        -0.0737          0.0275  ",
      "text/html": "<div>\n<style scoped>\n    .dataframe tbody tr th:only-of-type {\n        vertical-align: middle;\n    }\n\n    .dataframe tbody tr th {\n        vertical-align: top;\n    }\n\n    .dataframe thead th {\n        text-align: right;\n    }\n</style>\n<table border=\"1\" class=\"dataframe\">\n  <thead>\n    <tr style=\"text-align: right;\">\n      <th></th>\n      <th>Convertible Arbitrage</th>\n      <th>CTA Global</th>\n      <th>Distressed Securities</th>\n      <th>Emerging Markets</th>\n      <th>Equity Market Neutral</th>\n      <th>Event Driven</th>\n      <th>Fixed Income Arbitrage</th>\n      <th>Global Macro</th>\n      <th>Long/Short Equity</th>\n      <th>Merger Arbitrage</th>\n      <th>Relative Value</th>\n      <th>Short Selling</th>\n      <th>Funds Of Funds</th>\n    </tr>\n    <tr>\n      <th>date</th>\n      <th></th>\n      <th></th>\n      <th></th>\n      <th></th>\n      <th></th>\n      <th></th>\n      <th></th>\n      <th></th>\n      <th></th>\n      <th></th>\n      <th></th>\n      <th></th>\n      <th></th>\n    </tr>\n  </thead>\n  <tbody>\n    <tr>\n      <th>1997-01</th>\n      <td>0.0119</td>\n      <td>0.0393</td>\n      <td>0.0178</td>\n      <td>0.0791</td>\n      <td>0.0189</td>\n      <td>0.0213</td>\n      <td>0.0191</td>\n      <td>0.0573</td>\n      <td>0.0281</td>\n      <td>0.0150</td>\n      <td>0.0180</td>\n      <td>-0.0166</td>\n      <td>0.0317</td>\n    </tr>\n    <tr>\n      <th>1997-02</th>\n      <td>0.0123</td>\n      <td>0.0298</td>\n      <td>0.0122</td>\n      <td>0.0525</td>\n      <td>0.0101</td>\n      <td>0.0084</td>\n      <td>0.0122</td>\n      <td>0.0175</td>\n      <td>-0.0006</td>\n      <td>0.0034</td>\n      <td>0.0118</td>\n      <td>0.0426</td>\n      <td>0.0106</td>\n    </tr>\n    <tr>\n      <th>1997-03</th>\n      <td>0.0078</td>\n      <td>-0.0021</td>\n      <td>-0.0012</td>\n      <td>-0.0120</td>\n      <td>0.0016</td>\n      <td>-0.0023</td>\n      <td>0.0109</td>\n      <td>-0.0119</td>\n      <td>-0.0084</td>\n      <td>0.0060</td>\n      <td>0.0010</td>\n      <td>0.0778</td>\n      <td>-0.0077</td>\n    </tr>\n    <tr>\n      <th>1997-04</th>\n      <td>0.0086</td>\n      <td>-0.0170</td>\n      <td>0.0030</td>\n      <td>0.0119</td>\n      <td>0.0119</td>\n      <td>-0.0005</td>\n      <td>0.0130</td>\n      <td>0.0172</td>\n      <td>0.0084</td>\n      <td>-0.0001</td>\n      <td>0.0122</td>\n      <td>-0.0129</td>\n      <td>0.0009</td>\n    </tr>\n    <tr>\n      <th>1997-05</th>\n      <td>0.0156</td>\n      <td>-0.0015</td>\n      <td>0.0233</td>\n      <td>0.0315</td>\n      <td>0.0189</td>\n      <td>0.0346</td>\n      <td>0.0118</td>\n      <td>0.0108</td>\n      <td>0.0394</td>\n      <td>0.0197</td>\n      <td>0.0173</td>\n      <td>-0.0737</td>\n      <td>0.0275</td>\n    </tr>\n  </tbody>\n</table>\n</div>"
     },
     "metadata": {},
     "execution_count": 2
    }
   ],
   "source": [
    "hfi = erk.get_hfi_returns()\n",
    "hfi.head()"
   ]
  },
  {
   "cell_type": "code",
   "execution_count": 3,
   "metadata": {},
   "outputs": [
    {
     "output_type": "execute_result",
     "data": {
      "text/plain": "                               0       1      2\nConvertible Arbitrage   0.005508  0.0065  False\nCTA Global              0.004074  0.0014   True\nDistressed Securities   0.006946  0.0089  False\nEmerging Markets        0.006253  0.0096  False\nEquity Market Neutral   0.004498  0.0051  False\nEvent Driven            0.006344  0.0084  False\nFixed Income Arbitrage  0.004365  0.0055  False\nGlobal Macro            0.005403  0.0038   True\nLong/Short Equity       0.006331  0.0079  False\nMerger Arbitrage        0.005356  0.0060  False\nRelative Value          0.005792  0.0067  False\nShort Selling          -0.001701 -0.0053   True\nFunds Of Funds          0.004262  0.0052  False",
      "text/html": "<div>\n<style scoped>\n    .dataframe tbody tr th:only-of-type {\n        vertical-align: middle;\n    }\n\n    .dataframe tbody tr th {\n        vertical-align: top;\n    }\n\n    .dataframe thead th {\n        text-align: right;\n    }\n</style>\n<table border=\"1\" class=\"dataframe\">\n  <thead>\n    <tr style=\"text-align: right;\">\n      <th></th>\n      <th>0</th>\n      <th>1</th>\n      <th>2</th>\n    </tr>\n  </thead>\n  <tbody>\n    <tr>\n      <th>Convertible Arbitrage</th>\n      <td>0.005508</td>\n      <td>0.0065</td>\n      <td>False</td>\n    </tr>\n    <tr>\n      <th>CTA Global</th>\n      <td>0.004074</td>\n      <td>0.0014</td>\n      <td>True</td>\n    </tr>\n    <tr>\n      <th>Distressed Securities</th>\n      <td>0.006946</td>\n      <td>0.0089</td>\n      <td>False</td>\n    </tr>\n    <tr>\n      <th>Emerging Markets</th>\n      <td>0.006253</td>\n      <td>0.0096</td>\n      <td>False</td>\n    </tr>\n    <tr>\n      <th>Equity Market Neutral</th>\n      <td>0.004498</td>\n      <td>0.0051</td>\n      <td>False</td>\n    </tr>\n    <tr>\n      <th>Event Driven</th>\n      <td>0.006344</td>\n      <td>0.0084</td>\n      <td>False</td>\n    </tr>\n    <tr>\n      <th>Fixed Income Arbitrage</th>\n      <td>0.004365</td>\n      <td>0.0055</td>\n      <td>False</td>\n    </tr>\n    <tr>\n      <th>Global Macro</th>\n      <td>0.005403</td>\n      <td>0.0038</td>\n      <td>True</td>\n    </tr>\n    <tr>\n      <th>Long/Short Equity</th>\n      <td>0.006331</td>\n      <td>0.0079</td>\n      <td>False</td>\n    </tr>\n    <tr>\n      <th>Merger Arbitrage</th>\n      <td>0.005356</td>\n      <td>0.0060</td>\n      <td>False</td>\n    </tr>\n    <tr>\n      <th>Relative Value</th>\n      <td>0.005792</td>\n      <td>0.0067</td>\n      <td>False</td>\n    </tr>\n    <tr>\n      <th>Short Selling</th>\n      <td>-0.001701</td>\n      <td>-0.0053</td>\n      <td>True</td>\n    </tr>\n    <tr>\n      <th>Funds Of Funds</th>\n      <td>0.004262</td>\n      <td>0.0052</td>\n      <td>False</td>\n    </tr>\n  </tbody>\n</table>\n</div>"
     },
     "metadata": {},
     "execution_count": 3
    }
   ],
   "source": [
    "pd.concat([hfi.mean(), hfi.median(), hfi.mean() > hfi.median()], axis = 'columns')"
   ]
  },
  {
   "cell_type": "markdown",
   "metadata": {},
   "source": [
    "- ### Skewness\n",
    "$$ S(R) = \\frac{E[(R - E(R))^3]}{\\sigma_{R}^3} $$"
   ]
  },
  {
   "cell_type": "code",
   "execution_count": 4,
   "metadata": {},
   "outputs": [
    {
     "output_type": "execute_result",
     "data": {
      "text/plain": "Fixed Income Arbitrage   -3.940320\nConvertible Arbitrage    -2.639592\nEquity Market Neutral    -2.124435\nRelative Value           -1.815470\nEvent Driven             -1.409154\nMerger Arbitrage         -1.320083\nDistressed Securities    -1.300842\nEmerging Markets         -1.167067\nLong/Short Equity        -0.390227\nFunds Of Funds           -0.361783\nCTA Global                0.173699\nShort Selling             0.767975\nGlobal Macro              0.982922\ndtype: float64"
     },
     "metadata": {},
     "execution_count": 4
    }
   ],
   "source": [
    "erk.skewness(hfi).sort_values()"
   ]
  },
  {
   "cell_type": "code",
   "execution_count": 5,
   "metadata": {},
   "outputs": [
    {
     "output_type": "execute_result",
     "data": {
      "text/plain": "array([-2.63959223,  0.17369864, -1.30084204, -1.16706749, -2.12443538,\n       -1.40915356, -3.94032029,  0.98292188, -0.39022677, -1.32008333,\n       -1.81546975,  0.76797484, -0.36178308])"
     },
     "metadata": {},
     "execution_count": 5
    }
   ],
   "source": [
    "import scipy.stats\n",
    "scipy.stats.skew(hfi)"
   ]
  },
  {
   "cell_type": "code",
   "execution_count": 6,
   "metadata": {},
   "outputs": [
    {
     "output_type": "execute_result",
     "data": {
      "text/plain": "-0.1273701599037968"
     },
     "metadata": {},
     "execution_count": 6
    }
   ],
   "source": [
    "import numpy as np \n",
    "normal_rets = np.random.normal(0, .15, size = (263, 1))\n",
    "erk.skewness(normal_rets)\n"
   ]
  },
  {
   "cell_type": "markdown",
   "metadata": {},
   "source": [
    "- ### Kurtosis\n",
    "$$ K(R) = \\frac{E[(R - E(R))^4]}{\\sigma_{R}^4} $$"
   ]
  },
  {
   "cell_type": "code",
   "execution_count": 7,
   "metadata": {},
   "outputs": [
    {
     "output_type": "execute_result",
     "data": {
      "text/plain": "2.899161463943903"
     },
     "metadata": {},
     "execution_count": 7
    }
   ],
   "source": [
    "erk.kurtosis(normal_rets)"
   ]
  },
  {
   "cell_type": "code",
   "execution_count": 8,
   "metadata": {},
   "outputs": [
    {
     "output_type": "execute_result",
     "data": {
      "text/plain": "Convertible Arbitrage     23.280834\nCTA Global                 2.952960\nDistressed Securities      7.889983\nEmerging Markets           9.250788\nEquity Market Neutral     17.218555\nEvent Driven               8.035828\nFixed Income Arbitrage    29.842199\nGlobal Macro               5.741679\nLong/Short Equity          4.523893\nMerger Arbitrage           8.738950\nRelative Value            12.121208\nShort Selling              6.117772\nFunds Of Funds             7.070153\ndtype: float64"
     },
     "metadata": {},
     "execution_count": 8
    }
   ],
   "source": [
    "erk.kurtosis(hfi)"
   ]
  },
  {
   "cell_type": "code",
   "execution_count": 9,
   "metadata": {},
   "outputs": [
    {
     "output_type": "execute_result",
     "data": {
      "text/plain": "array([-0.10083854])"
     },
     "metadata": {},
     "execution_count": 9
    }
   ],
   "source": [
    "scipy.stats.kurtosis(normal_rets) ## This function returns excess kurtosis over the expected kurtosis of 3 for a normal distribution"
   ]
  },
  {
   "cell_type": "code",
   "execution_count": 10,
   "metadata": {},
   "outputs": [
    {
     "output_type": "execute_result",
     "data": {
      "text/plain": "(0.82254390641533, 0.6628066546925913)"
     },
     "metadata": {},
     "execution_count": 10
    }
   ],
   "source": [
    "scipy.stats.jarque_bera(normal_rets)"
   ]
  },
  {
   "cell_type": "code",
   "execution_count": 11,
   "metadata": {},
   "outputs": [
    {
     "output_type": "execute_result",
     "data": {
      "text/plain": "True"
     },
     "metadata": {},
     "execution_count": 11
    }
   ],
   "source": [
    "erk.is_normal(normal_rets)"
   ]
  },
  {
   "cell_type": "code",
   "execution_count": 12,
   "metadata": {},
   "outputs": [
    {
     "output_type": "execute_result",
     "data": {
      "text/plain": "False"
     },
     "metadata": {},
     "execution_count": 12
    }
   ],
   "source": [
    "erk.is_normal(hfi)"
   ]
  },
  {
   "cell_type": "code",
   "execution_count": 13,
   "metadata": {},
   "outputs": [
    {
     "output_type": "execute_result",
     "data": {
      "text/plain": "Convertible Arbitrage     False\nCTA Global                 True\nDistressed Securities     False\nEmerging Markets          False\nEquity Market Neutral     False\nEvent Driven              False\nFixed Income Arbitrage    False\nGlobal Macro              False\nLong/Short Equity         False\nMerger Arbitrage          False\nRelative Value            False\nShort Selling             False\nFunds Of Funds            False\ndtype: bool"
     },
     "metadata": {},
     "execution_count": 13
    }
   ],
   "source": [
    "hfi.aggregate(erk.is_normal) ## aggregate applies function on every column and prints the result"
   ]
  },
  {
   "cell_type": "code",
   "execution_count": 14,
   "metadata": {},
   "outputs": [
    {
     "output_type": "execute_result",
     "data": {
      "text/plain": "SmallCap    3.629829\nLargeCap    0.345472\ndtype: float64"
     },
     "metadata": {},
     "execution_count": 14
    }
   ],
   "source": [
    "ffme = erk.get_ffme_returns()\n",
    "erk.skewness(ffme)"
   ]
  },
  {
   "cell_type": "code",
   "execution_count": 15,
   "metadata": {},
   "outputs": [
    {
     "output_type": "execute_result",
     "data": {
      "text/plain": "SmallCap    38.285414\nLargeCap    11.847243\ndtype: float64"
     },
     "metadata": {},
     "execution_count": 15
    }
   ],
   "source": [
    "erk.kurtosis(ffme)"
   ]
  },
  {
   "cell_type": "code",
   "execution_count": 16,
   "metadata": {},
   "outputs": [
    {
     "output_type": "execute_result",
     "data": {
      "text/plain": "SmallCap    False\nLargeCap    False\ndtype: bool"
     },
     "metadata": {},
     "execution_count": 16
    }
   ],
   "source": [
    "ffme.aggregate(erk.is_normal)"
   ]
  },
  {
   "cell_type": "code",
   "execution_count": null,
   "metadata": {},
   "outputs": [],
   "source": []
  }
 ],
 "metadata": {
  "language_info": {
   "codemirror_mode": {
    "name": "ipython",
    "version": 3
   },
   "file_extension": ".py",
   "mimetype": "text/x-python",
   "name": "python",
   "nbconvert_exporter": "python",
   "pygments_lexer": "ipython3",
   "version": "3.7.6-final"
  },
  "orig_nbformat": 2,
  "kernelspec": {
   "name": "python37664bitbasecondae18dd333a6184a5e85811e23a1e88208",
   "display_name": "Python 3.7.6 64-bit ('base': conda)"
  }
 },
 "nbformat": 4,
 "nbformat_minor": 2
}